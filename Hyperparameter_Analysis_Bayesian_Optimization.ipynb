{
  "nbformat": 4,
  "nbformat_minor": 0,
  "metadata": {
    "colab": {
      "name": "Hyperparameter_Analysis_Bayesian_Optimization.ipynb",
      "version": "0.3.2",
      "provenance": [],
      "include_colab_link": true
    },
    "kernelspec": {
      "name": "python3",
      "display_name": "Python 3"
    },
    "accelerator": "GPU"
  },
  "cells": [
    {
      "cell_type": "markdown",
      "metadata": {
        "id": "view-in-github",
        "colab_type": "text"
      },
      "source": [
        "<a href=\"https://colab.research.google.com/github/Southparketeer/3D-Geometry-Deep-Learning-for-Cardiovascular-Metabolic-Risk-Prediction/blob/master/Hyperparameter_Analysis_Bayesian_Optimization.ipynb\" target=\"_parent\"><img src=\"https://colab.research.google.com/assets/colab-badge.svg\" alt=\"Open In Colab\"/></a>"
      ]
    },
    {
      "cell_type": "markdown",
      "metadata": {
        "id": "Rf8ye9uOf-x0",
        "colab_type": "text"
      },
      "source": [
        "# Hyperparameter Tuning with Bayesian Optimization"
      ]
    },
    {
      "cell_type": "markdown",
      "metadata": {
        "id": "PA4P5fA_7xP7",
        "colab_type": "text"
      },
      "source": [
        "## Install Bayesian Optimization Package"
      ]
    },
    {
      "cell_type": "code",
      "metadata": {
        "id": "Un-tRjbu7wpr",
        "colab_type": "code",
        "colab": {}
      },
      "source": [
        "!pip install bayesian-optimization"
      ],
      "execution_count": 0,
      "outputs": []
    },
    {
      "cell_type": "markdown",
      "metadata": {
        "id": "YjqeBBi68B37",
        "colab_type": "text"
      },
      "source": [
        "## Tuning Hyperparameter with Bayesian Optimization"
      ]
    },
    {
      "cell_type": "code",
      "metadata": {
        "id": "5KALLUR1pMCk",
        "colab_type": "code",
        "colab": {
          "base_uri": "https://localhost:8080/",
          "height": 425
        },
        "outputId": "1f97cb67-1739-4120-87ae-4f75c86b9374"
      },
      "source": [
        "import tensorflow.keras.initializers\n",
        "import statistics\n",
        "import tensorflow.keras\n",
        "from sklearn import metrics\n",
        "from sklearn.model_selection import StratifiedKFold\n",
        "from tensorflow.keras.models import Sequential\n",
        "from tensorflow.keras.layers import Dense, Dropout, Activation\n",
        "from tensorflow.keras.layers import Conv2D, MaxPooling2D, Flatten\n",
        "from tensorflow.keras.callbacks import EarlyStopping\n",
        "from sklearn.model_selection import StratifiedShuffleSplit\n",
        "from tensorflow.keras.optimizers import Adam\n",
        "from tensorflow.keras import backend as K\n",
        "import numpy as np\n",
        "import pandas as pd\n",
        "\n",
        "#Load Data\n",
        "df = pd.read_csv('/content/Labe.csv')\n",
        "y = df['gender'].values\n",
        "x = np.load('/content/train_Cylinder_depth_cnn.npy')\n",
        "#x_train, x_test, y_train, y_test = train_test_split(x, y, test_size=0.25, random_state=42)\n",
        "#print(\"Shape of x_train: {}\".format(x_train.shape))\n",
        "#print(\"Shape of y_train: {}\".format(y_train.shape))\n",
        "#print(\"Shape of x_test: {}\".format(x_test.shape))\n",
        "#print(\"Shape of y_test: {}\".format(y_test.shape))\n",
        "\n",
        "# Time Function\n",
        "def hms_string(sec_elapsed):\n",
        "    h = int(sec_elapsed / (60 * 60))\n",
        "    m = int((sec_elapsed % (60 * 60)) / 60)\n",
        "    s = sec_elapsed % 60\n",
        "    return \"{}:{:>02}:{:>05.2f}\".format(h, m, s)\n",
        "\n",
        "# Evaulation Function\n",
        "def evaluate_network_CNN(dropout, lr_CNN, layer_CNN):\n",
        "  SPLITS = 5\n",
        "  boot = StratifiedShuffleSplit(n_splits=SPLITS, test_size=0.1)\n",
        "  # Track progress\n",
        "  mean_benchmark = []\n",
        "  epochs_needed = []\n",
        "  num = 0\n",
        "  batch_size = 128\n",
        "  num_classes = 1 #Binary  \n",
        "  img_rows, img_cols = 128, 128 # input image dimensions\n",
        "  \n",
        "  # Loop through samples\n",
        "  for train, test in boot.split(x, y):\n",
        "    start_time = time.time()\n",
        "    num += 1\n",
        "    # Split train and test\n",
        "    x_train = x[train]\n",
        "    y_train = y[train]\n",
        "    x_test = x[test]\n",
        "    y_test = y[test]\n",
        "    x_train = x_train.reshape(x_train.shape[0], img_rows, img_cols, 1)\n",
        "    x_test = x_test.reshape(x_test.shape[0], img_rows, img_cols, 1)\n",
        "    input_shape = (img_rows, img_cols, 1)\n",
        "    x_train = x_train.astype('float32')\n",
        "    x_test = x_test.astype('float32')\n",
        "    # Setup Model\n",
        "    model = Sequential()\n",
        "    \n",
        "    layer = 0\n",
        "    while layer < layer_CNN and layer ** 2 < (img_rows/2):\n",
        "      if layer == 0:\n",
        "        model.add(Conv2D(32, kernel_size=(3, 3), activation='relu', input_shape=input_shape))\n",
        "        model.add(MaxPooling2D(pool_size=(2, 2)))\n",
        "      else:\n",
        "        model.add(Conv2D(32, (3, 3), activation='relu'))\n",
        "        model.add(MaxPooling2D(pool_size=(2, 2)))\n",
        "      layer += 1\n",
        "      \n",
        "    model.add(Flatten())\n",
        "    model.add(Dense(128, activation='relu'))\n",
        "    model.add(Dropout(dropout))\n",
        "    model.add(Dense(num_classes, activation='sigmoid'))\n",
        "    model.compile(loss='binary_crossentropy', optimizer=Adam(lr=lr_CNN), metrics=['accuracy'])\n",
        "    monitor = EarlyStopping(monitor='val_loss', min_delta=1e-3, patience=3, verbose=0, mode='auto', restore_best_weights=True)\n",
        "    # Train on the bootstrap sample\n",
        "    model.fit(x = x_train, y = y_train, batch_size=batch_size, epochs=20, verbose=0,validation_data=(x_test, y_test), callbacks=[monitor])\n",
        "    epochs = monitor.stopped_epoch\n",
        "    epochs_needed.append(epochs)\n",
        "    # Predict on the out of boot (validation)\n",
        "    pred = model.predict(x_test)\n",
        "    score = metrics.log_loss(y_test, pred)\n",
        "    mean_benchmark.append(score)\n",
        "    m1 = statistics.mean(mean_benchmark)\n",
        "    m2 = statistics.mean(epochs_needed)\n",
        "    mdev = statistics.pstdev(mean_benchmark)\n",
        "    time_took = time.time() - start_time\n",
        "    #print(f\"#{num}: score={score:.6f}, mean score={m1:.6f}, stdev={mdev:.6f}, epochs={epochs}, mean epochs={int(m2)}, time={hms_string(time_took)}\")\n",
        "  tensorflow.keras.backend.clear_session()\n",
        "  return (-m1)    \n",
        "\n",
        "#epoch selected based on Tensorboard training performence to pervent overfitting\n",
        "#print(evaluate_network(dropout = 0.2,lr_CNN = 1e-3,layer_CNN = 3))\n",
        "\n",
        "from bayes_opt import BayesianOptimization\n",
        "import time\n",
        "\n",
        "# Bounded region of parameter space\n",
        "pbounds = {'dropout': (0.0, 0.499),\n",
        "           'lr_CNN': (0.0, 0.1),\n",
        "           'layer_CNN': (1,3),\n",
        "          }\n",
        "\n",
        "optimizer = BayesianOptimization(\n",
        "    f=evaluate_network_CNN,\n",
        "    pbounds=pbounds,\n",
        "    verbose=2,  # verbose = 1 prints only when a maximum is observed, verbose = 0 is silent\n",
        "    random_state=1,\n",
        ")\n",
        "\n",
        "start_time = time.time()\n",
        "optimizer.maximize(init_points=10, n_iter=10)\n",
        "time_took = time.time() - start_time\n",
        "\n",
        "print(optimizer.max)"
      ],
      "execution_count": 30,
      "outputs": [
        {
          "output_type": "stream",
          "text": [
            "|   iter    |  target   |  dropout  | layer_CNN |  lr_CNN   |\n",
            "-------------------------------------------------------------\n",
            "| \u001b[0m 1       \u001b[0m | \u001b[0m-0.3593  \u001b[0m | \u001b[0m 0.2081  \u001b[0m | \u001b[0m 2.441   \u001b[0m | \u001b[0m 1.144e-0\u001b[0m |\n",
            "| \u001b[0m 2       \u001b[0m | \u001b[0m-0.5978  \u001b[0m | \u001b[0m 0.1509  \u001b[0m | \u001b[0m 1.294   \u001b[0m | \u001b[0m 0.009234\u001b[0m |\n",
            "| \u001b[0m 3       \u001b[0m | \u001b[0m-0.5999  \u001b[0m | \u001b[0m 0.09294 \u001b[0m | \u001b[0m 1.691   \u001b[0m | \u001b[0m 0.03968 \u001b[0m |\n",
            "| \u001b[0m 4       \u001b[0m | \u001b[0m-0.6279  \u001b[0m | \u001b[0m 0.2689  \u001b[0m | \u001b[0m 1.838   \u001b[0m | \u001b[0m 0.06852 \u001b[0m |\n",
            "| \u001b[95m 5       \u001b[0m | \u001b[95m-0.1936  \u001b[0m | \u001b[95m 0.102   \u001b[0m | \u001b[95m 2.756   \u001b[0m | \u001b[95m 0.002739\u001b[0m |\n",
            "| \u001b[0m 6       \u001b[0m | \u001b[0m-0.5151  \u001b[0m | \u001b[0m 0.3346  \u001b[0m | \u001b[0m 1.835   \u001b[0m | \u001b[0m 0.05587 \u001b[0m |\n",
            "| \u001b[0m 7       \u001b[0m | \u001b[0m-0.6844  \u001b[0m | \u001b[0m 0.07005 \u001b[0m | \u001b[0m 1.396   \u001b[0m | \u001b[0m 0.08007 \u001b[0m |\n",
            "| \u001b[0m 8       \u001b[0m | \u001b[0m-0.6897  \u001b[0m | \u001b[0m 0.4832  \u001b[0m | \u001b[0m 1.627   \u001b[0m | \u001b[0m 0.06923 \u001b[0m |\n",
            "| \u001b[0m 9       \u001b[0m | \u001b[0m-0.2217  \u001b[0m | \u001b[0m 0.4373  \u001b[0m | \u001b[0m 2.789   \u001b[0m | \u001b[0m 0.008504\u001b[0m |\n",
            "| \u001b[0m 10      \u001b[0m | \u001b[0m-0.6894  \u001b[0m | \u001b[0m 0.01949 \u001b[0m | \u001b[0m 1.34    \u001b[0m | \u001b[0m 0.08781 \u001b[0m |\n",
            "| \u001b[0m 11      \u001b[0m | \u001b[0m-0.6896  \u001b[0m | \u001b[0m 0.0     \u001b[0m | \u001b[0m 3.0     \u001b[0m | \u001b[0m 0.1     \u001b[0m |\n",
            "| \u001b[0m 12      \u001b[0m | \u001b[0m-0.6968  \u001b[0m | \u001b[0m 0.499   \u001b[0m | \u001b[0m 2.241   \u001b[0m | \u001b[0m 0.0     \u001b[0m |\n",
            "| \u001b[0m 13      \u001b[0m | \u001b[0m-0.6965  \u001b[0m | \u001b[0m 0.499   \u001b[0m | \u001b[0m 1.0     \u001b[0m | \u001b[0m 0.0     \u001b[0m |\n",
            "| \u001b[0m 14      \u001b[0m | \u001b[0m-0.701   \u001b[0m | \u001b[0m 0.499   \u001b[0m | \u001b[0m 3.0     \u001b[0m | \u001b[0m 0.0     \u001b[0m |\n",
            "| \u001b[0m 15      \u001b[0m | \u001b[0m-0.6893  \u001b[0m | \u001b[0m 0.0     \u001b[0m | \u001b[0m 2.565   \u001b[0m | \u001b[0m 0.1     \u001b[0m |\n",
            "| \u001b[0m 16      \u001b[0m | \u001b[0m-0.7147  \u001b[0m | \u001b[0m 0.0     \u001b[0m | \u001b[0m 1.0     \u001b[0m | \u001b[0m 0.0     \u001b[0m |\n",
            "| \u001b[0m 17      \u001b[0m | \u001b[0m-0.6476  \u001b[0m | \u001b[0m 0.2878  \u001b[0m | \u001b[0m 2.708   \u001b[0m | \u001b[0m 0.1     \u001b[0m |\n",
            "| \u001b[0m 18      \u001b[0m | \u001b[0m-0.697   \u001b[0m | \u001b[0m 0.0     \u001b[0m | \u001b[0m 2.156   \u001b[0m | \u001b[0m 0.0     \u001b[0m |\n",
            "| \u001b[0m 19      \u001b[0m | \u001b[0m-0.6944  \u001b[0m | \u001b[0m 0.499   \u001b[0m | \u001b[0m 2.617   \u001b[0m | \u001b[0m 0.0     \u001b[0m |\n",
            "| \u001b[0m 20      \u001b[0m | \u001b[0m-0.6958  \u001b[0m | \u001b[0m 0.2485  \u001b[0m | \u001b[0m 2.922   \u001b[0m | \u001b[0m 0.0     \u001b[0m |\n",
            "=============================================================\n",
            "{'target': -0.19364301575612627, 'params': {'dropout': 0.1020216726160272, 'layer_CNN': 2.756234872781891, 'lr_CNN': 0.0027387593197926163}}\n"
          ],
          "name": "stdout"
        }
      ]
    }
  ]
}